{
  "cells": [
    {
      "cell_type": "code",
      "execution_count": null,
      "metadata": {
        "colab": {
          "base_uri": "https://localhost:8080/"
        },
        "id": "qTPLaqZMk7QW",
        "outputId": "ee1fe243-fb48-4e5c-963b-ddf6145a99af"
      },
      "outputs": [
        {
          "name": "stdout",
          "output_type": "stream",
          "text": [
            "Fold 1 Accuracy: 0.5938\n",
            "Fold 2 Accuracy: 0.7812\n",
            "Fold 3 Accuracy: 0.7812\n",
            "Fold 4 Accuracy: 0.7188\n",
            "Fold 5 Accuracy: 0.7742\n",
            "\n",
            "Mean Accuracy: 0.7298 ± 0.0720\n"
          ]
        }
      ],
      "source": [
        "import pandas as pd\n",
        "import numpy as np\n",
        "from sklearn.model_selection import StratifiedKFold\n",
        "from sklearn.preprocessing import LabelEncoder, StandardScaler\n",
        "from sklearn.metrics import accuracy_score\n",
        "from xgboost import XGBClassifier\n",
        "from imblearn.pipeline import Pipeline\n",
        "from imblearn.over_sampling import SMOTE\n",
        "\n",
        "final_features = [\n",
        "    'SpMax3_Bhv', 'SpMax3_Bhi', 'ETA_EtaP_F_L', 'MATS1v',\n",
        "    'ATS5e', 'ETA_Eta_F_L', 'CIC2', 'SpDiam_Dt',\n",
        "    'SpMin3_Bhv', 'ATSC7p', 'ATSC5i', 'piPC2'\n",
        "]\n",
        "\n",
        "df = pd.read_csv('Molecules_Toxicity_Classification.csv')\n",
        "df = df.loc[:, df.nunique() > 1]\n",
        "if 'Unnamed: 0' in df.columns:\n",
        "    df = df.drop('Unnamed: 0', axis=1)\n",
        "\n",
        "X = df[final_features]\n",
        "y = df['Class']\n",
        "\n",
        "le = LabelEncoder()\n",
        "y_encoded = le.fit_transform(y)\n",
        "\n",
        "pipeline = Pipeline([\n",
        "    ('smote', SMOTE(random_state=42)), #Without SMOTE we got 75%, but keeping the data imbalance means that recall decreases alot (which we dont want) so we sacrifice a bit of accuracy to make more sure we are hitting the toxic predictions.\n",
        "    ('scaler', StandardScaler()),\n",
        "    ('xgb', XGBClassifier(\n",
        "        n_estimators=100,\n",
        "        learning_rate=0.1,\n",
        "        max_depth=3,\n",
        "        random_state=42,\n",
        "        eval_metric='logloss'\n",
        "    ))\n",
        "])\n",
        "\n",
        "skf = StratifiedKFold(n_splits=5, shuffle=True, random_state=42)\n",
        "acc_scores = []\n",
        "\n",
        "for fold_idx, (train_idx, test_idx) in enumerate(skf.split(X, y_encoded), start=1):\n",
        "    X_train, X_test = X.iloc[train_idx], X.iloc[test_idx]\n",
        "    y_train, y_test = y_encoded[train_idx], y_encoded[test_idx]\n",
        "\n",
        "    pipeline.fit(X_train, y_train)\n",
        "    y_pred = pipeline.predict(X_test)\n",
        "    acc = accuracy_score(y_test, y_pred)\n",
        "    acc_scores.append(acc)\n",
        "    print(f\"Fold {fold_idx} Accuracy: {acc:.4f}\")\n",
        "\n",
        "print(f\"\\nMean Accuracy: {np.mean(acc_scores):.4f} ± {np.std(acc_scores):.4f}\")\n",
        "\n",
        "\n",
        "\n",
        "\n",
        "\n"
      ]
    },
    {
      "cell_type": "code",
      "execution_count": null,
      "metadata": {},
      "outputs": [],
      "source": [
        "def predict_test(pipeline, le, df_new, final_features):\n",
        "    #df= df_new.tail(12).copy()\n",
        "    # X_new = df[final_features]\n",
        "    X_new=df_new[final_features]\n",
        "    y_pred_enc = pipeline.predict(X_new)\n",
        "    return le.inverse_transform(y_pred_enc)\n",
        "\n",
        "\n",
        "df_new = pd.read_csv('data.csv').drop(columns=['Unnamed: 0'], errors='ignore')\n",
        "preds = predict_test(pipeline, le, df_new, final_features)\n",
        "print(\"Predictions on  rows:\", preds)"
      ]
    }
  ],
  "metadata": {
    "colab": {
      "provenance": []
    },
    "kernelspec": {
      "display_name": "Python 3",
      "name": "python3"
    },
    "language_info": {
      "name": "python"
    }
  },
  "nbformat": 4,
  "nbformat_minor": 0
}
