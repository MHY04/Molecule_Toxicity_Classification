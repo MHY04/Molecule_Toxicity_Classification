{
  "nbformat": 4,
  "nbformat_minor": 0,
  "metadata": {
    "colab": {
      "provenance": []
    },
    "kernelspec": {
      "name": "python3",
      "display_name": "Python 3"
    },
    "language_info": {
      "name": "python"
    }
  },
  "cells": [
    {
      "cell_type": "code",
      "execution_count": 98,
      "metadata": {
        "colab": {
          "base_uri": "https://localhost:8080/"
        },
        "id": "qTPLaqZMk7QW",
        "outputId": "7cd43c13-92e0-446a-c93d-aaedc12ffa7d"
      },
      "outputs": [
        {
          "output_type": "stream",
          "name": "stdout",
          "text": [
            "Fold 1 Accuracy: 0.6562\n",
            "Fold 2 Accuracy: 0.7500\n",
            "Fold 3 Accuracy: 0.8125\n",
            "Fold 4 Accuracy: 0.7500\n",
            "Fold 5 Accuracy: 0.7742\n",
            "\n",
            "Mean Accuracy: 0.7486 ± 0.0515\n"
          ]
        }
      ],
      "source": [
        "import pandas as pd\n",
        "import numpy as np\n",
        "from sklearn.model_selection import StratifiedKFold\n",
        "from sklearn.preprocessing import LabelEncoder, StandardScaler\n",
        "from sklearn.metrics import accuracy_score\n",
        "from xgboost import XGBClassifier\n",
        "\n",
        "final_features = [\n",
        "    'SpMax3_Bhv', 'SpMax3_Bhi', 'ETA_EtaP_F_L', 'MATS1v',\n",
        "    'ATS5e', 'ETA_Eta_F_L', 'CIC2', 'SpDiam_Dt',\n",
        "    'SpMin3_Bhv', 'ATSC7p', 'ATSC5i', 'piPC2'\n",
        "]\n",
        "\n",
        "df = pd.read_csv('Molecules_Toxicity_Classification.csv')\n",
        "df = df.loc[:, df.nunique() > 1]\n",
        "if 'Unnamed: 0' in df.columns:\n",
        "    df = df.drop('Unnamed: 0', axis=1)\n",
        "\n",
        "X = df[final_features]\n",
        "y = df['Class']\n",
        "\n",
        "le = LabelEncoder()\n",
        "y_encoded = le.fit_transform(y)\n",
        "\n",
        "skf = StratifiedKFold(n_splits=5, shuffle=True, random_state=42)\n",
        "\n",
        "acc_scores = []\n",
        "\n",
        "for fold_idx, (train_idx, test_idx) in enumerate(skf.split(X, y_encoded), start=1):\n",
        "    X_train, X_test = X.iloc[train_idx], X.iloc[test_idx]\n",
        "    y_train, y_test = y_encoded[train_idx], y_encoded[test_idx]\n",
        "\n",
        "    scaler = StandardScaler()\n",
        "    X_train_scaled = scaler.fit_transform(X_train)\n",
        "    X_test_scaled = scaler.transform(X_test)\n",
        "\n",
        "    model = XGBClassifier(\n",
        "        n_estimators=100,\n",
        "        learning_rate=0.1,\n",
        "        max_depth=3,\n",
        "        random_state=42,\n",
        "        eval_metric='logloss'\n",
        "    )\n",
        "    model.fit(X_train_scaled, y_train)\n",
        "\n",
        "    y_pred = model.predict(X_test_scaled)\n",
        "    acc = accuracy_score(y_test, y_pred)\n",
        "    acc_scores.append(acc)\n",
        "    print(f\"Fold {fold_idx} Accuracy: {acc:.4f}\")\n",
        "\n",
        "print(f\"\\nMean Accuracy: {np.mean(acc_scores):.4f} ± {np.std(acc_scores):.4f}\")\n",
        "\n",
        "\n",
        "\n",
        "\n",
        "\n"
      ]
    }
  ]
}