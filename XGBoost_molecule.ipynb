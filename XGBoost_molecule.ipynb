{
  "nbformat": 4,
  "nbformat_minor": 0,
  "metadata": {
    "colab": {
      "provenance": []
    },
    "kernelspec": {
      "name": "python3",
      "display_name": "Python 3"
    },
    "language_info": {
      "name": "python"
    }
  },
  "cells": [
    {
      "cell_type": "markdown",
      "source": [
        "# Note: in the  cell below we got data leakage"
      ],
      "metadata": {
        "id": "L8uRXguksDnW"
      }
    },
    {
      "cell_type": "code",
      "source": [
        "import pandas as pd\n",
        "from sklearn.model_selection import train_test_split\n",
        "from sklearn.ensemble import RandomForestClassifier\n",
        "from sklearn.feature_selection import SelectFromModel\n",
        "from sklearn.metrics import accuracy_score, classification_report\n",
        "from sklearn.preprocessing import LabelEncoder\n",
        "from imblearn.over_sampling import SMOTE\n",
        "df=pd.read_csv('/content/drive/MyDrive/Molecules_Toxicity_Classification.csv')\n",
        "df = df.drop(columns=['Unnamed: 0'])\n",
        "le = LabelEncoder()\n",
        "df['Class'] = le.fit_transform(df['Class'])\n",
        "X = df.drop(columns=['Class'])\n",
        "y = df['Class']\n",
        "X_train, X_test, y_train, y_test = train_test_split(X, y, test_size=0.2, random_state=42, stratify=y)\n",
        "smote = SMOTE(random_state=42)\n",
        "X_resampled, y_resampled = smote.fit_resample(X_train, y_train)\n",
        "selector_model = RandomForestClassifier(random_state=42)\n",
        "selector = SelectFromModel(selector_model, threshold='mean')\n",
        "selector.fit(X_resampled, y_resampled)\n",
        "X_resampled_sel = selector.transform(X_resampled)\n",
        "X_test_sel = selector.transform(X_test)\n",
        "model = RandomForestClassifier(n_estimators=200, max_depth=20, random_state=42)\n",
        "model.fit(X_resampled_sel, y_resampled)\n",
        "y_pred = model.predict(X_test_sel)\n",
        "print(\" Accuracy:\", accuracy_score(y_test, y_pred))\n",
        "print(classification_report(y_test, y_pred, target_names=le.classes_))"
      ],
      "metadata": {
        "id": "uY9kcm6BgSu8",
        "colab": {
          "base_uri": "https://localhost:8080/"
        },
        "outputId": "f23e1a9d-e449-4ddb-a566-26041a218280"
      },
      "execution_count": null,
      "outputs": [
        {
          "output_type": "stream",
          "name": "stdout",
          "text": [
            " Accuracy: 0.78125\n",
            "              precision    recall  f1-score   support\n",
            "\n",
            "    NonToxic       0.86      0.82      0.84        22\n",
            "       Toxic       0.64      0.70      0.67        10\n",
            "\n",
            "    accuracy                           0.78        32\n",
            "   macro avg       0.75      0.76      0.75        32\n",
            "weighted avg       0.79      0.78      0.78        32\n",
            "\n"
          ]
        }
      ]
    },
    {
      "cell_type": "markdown",
      "source": [
        "# In the below cells i tried to explore the data ditribution"
      ],
      "metadata": {
        "id": "IhVJz42UvJZF"
      }
    },
    {
      "cell_type": "code",
      "source": [
        "import pandas as pd\n",
        "df=pd.read_csv('/content/drive/MyDrive/Molecules_Toxicity_Classification.csv')\n",
        "print(df['Class'].value_counts())\n"
      ],
      "metadata": {
        "colab": {
          "base_uri": "https://localhost:8080/"
        },
        "id": "sYx3JkA5iTUq",
        "outputId": "77f0e20d-fd7d-4dc7-f1d9-f76e77854f21"
      },
      "execution_count": null,
      "outputs": [
        {
          "output_type": "stream",
          "name": "stdout",
          "text": [
            "Class\n",
            "NonToxic    108\n",
            "Toxic        51\n",
            "Name: count, dtype: int64\n"
          ]
        }
      ]
    },
    {
      "cell_type": "code",
      "source": [
        "import matplotlib.pyplot as plt\n",
        "import seaborn as sns\n",
        "\n",
        "plt.figure(figsize=(8, 4))\n",
        "sns.countplot(x='Class', data=df)\n",
        "plt.title('Class Distribution')\n",
        "plt.xlabel('Class')\n",
        "plt.ylabel('Count')\n",
        "plt.show()\n"
      ],
      "metadata": {
        "colab": {
          "base_uri": "https://localhost:8080/",
          "height": 410
        },
        "id": "wQCkuSPWitGv",
        "outputId": "b0fdf54c-bf83-4b9d-e00f-268fad8bd2ed"
      },
      "execution_count": null,
      "outputs": [
        {
          "output_type": "display_data",
          "data": {
            "text/plain": [
              "<Figure size 800x400 with 1 Axes>"
            ],
            "image/png": "[encoded data removed]"
          },
          "metadata": {}
        }
      ]
    },
    {
      "cell_type": "code",
      "source": [
        "from sklearn.preprocessing import LabelEncoder\n",
        "le = LabelEncoder()\n",
        "df['Class'] = le.fit_transform(df['Class'])"
      ],
      "metadata": {
        "id": "v90nwLksjK7m"
      },
      "execution_count": null,
      "outputs": []
    },
    {
      "cell_type": "code",
      "source": [
        "X = df.drop('Class', axis=1)\n",
        "y = df['Class']"
      ],
      "metadata": {
        "id": "fAj8_ZYFmT8-"
      },
      "execution_count": null,
      "outputs": []
    },
    {
      "cell_type": "code",
      "source": [
        "import pandas as pd\n",
        "from sklearn.model_selection import train_test_split\n",
        "from imblearn.over_sampling import SMOTE\n",
        "from collections import Counter\n",
        "\n",
        "X_train, X_test, y_train, y_test = train_test_split(\n",
        "    X, y, test_size=0.2, random_state=42, stratify=y\n",
        ")\n",
        "print(\"before resampling training set shape without SMOTE:\", Counter(y_train))\n",
        "smote = SMOTE(random_state=42)\n",
        "X_train_res, y_train_res = smote.fit_resample(X_train, y_train)\n",
        "\n",
        "print(\"Resampled training set shape with SMOTE:\", Counter(y_train_res))\n"
      ],
      "metadata": {
        "colab": {
          "base_uri": "https://localhost:8080/"
        },
        "id": "YxvHqAGnln-C",
        "outputId": "b49f77ff-1490-49ff-8a23-6882fcc4c402"
      },
      "execution_count": null,
      "outputs": [
        {
          "output_type": "stream",
          "name": "stdout",
          "text": [
            "before resampling training set shape without SMOTE: Counter({0: 86, 1: 41})\n",
            "Resampled training set shape with SMOTE: Counter({0: 86, 1: 86})\n"
          ]
        }
      ]
    },
    {
      "cell_type": "markdown",
      "source": [
        "# In the cell below we slpitted the data then we did PCA to avoid data leakage then we trained random forest classifier"
      ],
      "metadata": {
        "id": "JPbS6nMGsR_D"
      }
    },
    {
      "cell_type": "code",
      "source": [
        "# Import necessary libraries\n",
        "import numpy as np\n",
        "import pandas as pd\n",
        "from sklearn.model_selection import train_test_split\n",
        "from sklearn.preprocessing import LabelEncoder, StandardScaler\n",
        "from sklearn.decomposition import PCA\n",
        "from sklearn.datasets import load_iris\n",
        "\n",
        "df = pd.read_csv('/content/drive/MyDrive/Molecules_Toxicity_Classification.csv')\n",
        "X = df.drop('Class', axis=1)\n",
        "y = df['Class']\n",
        "\n",
        "X_train, X_test, y_train, y_test = train_test_split(\n",
        "    X, y, test_size=0.2, random_state=42, stratify=y\n",
        ")\n",
        "\n",
        "le = LabelEncoder()\n",
        "y_train_encoded = le.fit_transform(y_train)\n",
        "y_test_encoded = le.transform(y_test)\n",
        "\n",
        "scaler = StandardScaler()\n",
        "X_train_scaled = scaler.fit_transform(X_train)\n",
        "X_test_scaled = scaler.transform(X_test)\n",
        "\n",
        "pca = PCA(n_components=0.99)\n",
        "X_train_pca = pca.fit_transform(X_train_scaled)\n",
        "X_test_pca = pca.transform(X_test_scaled)\n",
        "\n",
        "\n",
        "print(f\"Shape after PCA - Training: {X_train_pca.shape}, Test: {X_test_pca.shape}\")\n",
        "\n",
        "from sklearn.ensemble import RandomForestClassifier\n",
        "from sklearn.metrics import accuracy_score\n",
        "\n",
        "# Train the model using the PCA-transformed data\n",
        "model = RandomForestClassifier(random_state=42)\n",
        "model.fit(X_train_pca, y_train_encoded)\n",
        "\n",
        "# Predict on the test set\n",
        "y_pred = model.predict(X_test_pca)\n",
        "\n",
        "# Evaluate the model's performance\n",
        "accuracy = accuracy_score(y_test_encoded, y_pred)\n",
        "print(f\"Model Accuracy: {accuracy:.4f}\")\n"
      ],
      "metadata": {
        "colab": {
          "base_uri": "https://localhost:8080/"
        },
        "id": "pkM3yvgynbmG",
        "outputId": "a401b534-3745-4e01-e021-0adc87194940"
      },
      "execution_count": null,
      "outputs": [
        {
          "output_type": "stream",
          "name": "stdout",
          "text": [
            "Shape after PCA - Training: (127, 85), Test: (32, 85)\n",
            "Model Accuracy: 0.6875\n"
          ]
        }
      ]
    },
    {
      "cell_type": "markdown",
      "source": [
        "# In the below cells we tried different combinations from using feature slection and feature extraction. Like we used PCA and RFE , PCA and TSNE"
      ],
      "metadata": {
        "id": "1TksaQTXuNk_"
      }
    },
    {
      "cell_type": "code",
      "source": [
        "import pandas as pd\n",
        "from sklearn.model_selection import train_test_split\n",
        "from sklearn.preprocessing import StandardScaler, LabelEncoder\n",
        "from sklearn.decomposition import PCA\n",
        "from sklearn.feature_selection import RFE\n",
        "from xgboost import XGBClassifier\n",
        "from sklearn.metrics import accuracy_score\n",
        "\n",
        "\n",
        "df = pd.read_csv('/content/drive/MyDrive/Molecules_Toxicity_Classification.csv')\n",
        "X = df.drop('Class', axis=1)\n",
        "y = df['Class']\n",
        "\n",
        "le = LabelEncoder()\n",
        "y_encoded = le.fit_transform(y)\n",
        "\n",
        "X_train, X_test, y_train, y_test = train_test_split(\n",
        "    X, y_encoded, test_size=0.2, random_state=42, stratify=y_encoded\n",
        ")\n",
        "\n",
        "scaler = StandardScaler()\n",
        "X_train_scaled = scaler.fit_transform(X_train)\n",
        "X_test_scaled = scaler.transform(X_test)\n",
        "\n",
        "\n",
        "pca = PCA(n_components=0.99)\n",
        "X_train_pca = pca.fit_transform(X_train_scaled)\n",
        "X_test_pca = pca.transform(X_test_scaled)\n",
        "print(f\"Shape after PCA - Training: {X_train_pca.shape}, Test: {X_test_pca.shape}\")\n",
        "\n",
        "\n",
        "base_model = XGBClassifier(eval_metric='logloss', random_state=42)\n",
        "rfe = RFE(estimator=base_model, n_features_to_select=30, step=1)\n",
        "rfe.fit(X_train_pca, y_train)\n",
        "\n",
        "\n",
        "X_train_rfe = rfe.transform(X_train_pca)\n",
        "X_test_rfe = rfe.transform(X_test_pca)\n",
        "print(f\"Shape after RFE - Training: {X_train_rfe.shape}, Test: {X_test_rfe.shape}\")\n",
        "\n",
        "final_model = XGBClassifier(eval_metric='logloss', random_state=42)\n",
        "final_model.fit(X_train_rfe, y_train)\n",
        "\n",
        "y_pred = final_model.predict(X_test_rfe)\n",
        "accuracy = accuracy_score(y_test, y_pred)\n",
        "print(\"Final Accuracy with PCA + RFE + XGB:\", accuracy)\n"
      ],
      "metadata": {
        "colab": {
          "base_uri": "https://localhost:8080/"
        },
        "id": "O7CK6aeBV342",
        "outputId": "14825f66-3f66-4de7-8ece-9971b57ef47e"
      },
      "execution_count": null,
      "outputs": [
        {
          "output_type": "stream",
          "name": "stdout",
          "text": [
            "Shape after PCA - Training: (127, 85), Test: (32, 85)\n",
            "Shape after RFE - Training: (127, 30), Test: (32, 30)\n",
            "Final Accuracy with PCA + RFE + XGB: 0.6875\n"
          ]
        }
      ]
    },
    {
      "cell_type": "code",
      "source": [
        "import pandas as pd\n",
        "import numpy as np\n",
        "from sklearn.model_selection import train_test_split\n",
        "from sklearn.preprocessing import StandardScaler, LabelEncoder\n",
        "from sklearn.decomposition import PCA\n",
        "from sklearn.manifold import TSNE\n",
        "from xgboost import XGBClassifier\n",
        "from sklearn.metrics import accuracy_score\n",
        "import matplotlib.pyplot as plt\n",
        "\n",
        "df = pd.read_csv('/content/drive/MyDrive/Molecules_Toxicity_Classification.csv')\n",
        "X = df.drop('Class', axis=1)\n",
        "y = df['Class']\n",
        "\n",
        "le = LabelEncoder()\n",
        "y_encoded = le.fit_transform(y)\n",
        "\n",
        "\n",
        "X_train, X_test, y_train, y_test = train_test_split(\n",
        "    X, y_encoded, test_size=0.2, random_state=42, stratify=y_encoded\n",
        ")\n",
        "\n",
        "scaler = StandardScaler()\n",
        "X_train_scaled = scaler.fit_transform(X_train)\n",
        "X_test_scaled = scaler.transform(X_test)\n",
        "\n",
        "pca = PCA(n_components=0.99)\n",
        "X_train_pca = pca.fit_transform(X_train_scaled)\n",
        "X_test_pca = pca.transform(X_test_scaled)\n",
        "print(f\"PCA - Training shape: {X_train_pca.shape}, Test shape: {X_test_pca.shape}\")\n",
        "\n",
        "X_pca_all = np.concatenate([X_train_pca, X_test_pca], axis=0)\n",
        "y_all = np.concatenate([y_train, y_test], axis=0)\n",
        "\n",
        "tsne = TSNE(n_components=2, random_state=42)\n",
        "X_tsne_all = tsne.fit_transform(X_pca_all)\n",
        "print(f\"t-SNE output shape: {X_tsne_all.shape}\")\n",
        "\n",
        "\n",
        "X_train_tsne = X_tsne_all[:len(X_train_pca)]\n",
        "X_test_tsne = X_tsne_all[len(X_train_pca):]\n",
        "print(f\"t-SNE - Training shape: {X_train_tsne.shape}, Test shape: {X_test_tsne.shape}\")\n",
        "\n",
        "model = XGBClassifier(eval_metric='logloss', random_state=42)\n",
        "model.fit(X_train_tsne, y_train)\n",
        "\n",
        "y_pred = model.predict(X_test_tsne)\n",
        "accuracy = accuracy_score(y_test, y_pred)\n",
        "print(\"Accuracy with PCA + t-SNE + XGB:\", accuracy)\n"
      ],
      "metadata": {
        "colab": {
          "base_uri": "https://localhost:8080/"
        },
        "id": "QugJa2DgW-u_",
        "outputId": "b2bd5b64-5599-4c0d-9946-d7485483174b"
      },
      "execution_count": null,
      "outputs": [
        {
          "output_type": "stream",
          "name": "stdout",
          "text": [
            "PCA - Training shape: (127, 85), Test shape: (32, 85)\n",
            "t-SNE output shape: (159, 2)\n",
            "t-SNE - Training shape: (127, 2), Test shape: (32, 2)\n",
            "Accuracy with PCA + t-SNE + XGB: 0.71875\n"
          ]
        }
      ]
    },
    {
      "cell_type": "markdown",
      "source": [
        "## In the below cell i tried to use only RFE but pick top 50 features"
      ],
      "metadata": {
        "id": "n5vI-6ZLumiZ"
      }
    },
    {
      "cell_type": "code",
      "source": [
        "import pandas as pd\n",
        "from sklearn.model_selection import train_test_split\n",
        "from sklearn.feature_selection import RFE\n",
        "from sklearn.preprocessing import LabelEncoder, StandardScaler\n",
        "from xgboost import XGBClassifier\n",
        "from sklearn.metrics import accuracy_score\n",
        "\n",
        "df = pd.read_csv('/content/drive/MyDrive/Molecules_Toxicity_Classification.csv')\n",
        "\n",
        "df = df.loc[:, df.nunique() > 1]\n",
        "if \"Unnamed: 0\" in df.columns:\n",
        "    df = df.drop(\"Unnamed: 0\", axis=1)\n",
        "\n",
        "X = df.drop('Class', axis=1)\n",
        "y = df['Class']\n",
        "\n",
        "le = LabelEncoder()\n",
        "y_encoded = le.fit_transform(y)\n",
        "\n",
        "\n",
        "scaler = StandardScaler()\n",
        "X_scaled = scaler.fit_transform(X)\n",
        "\n",
        "\n",
        "X_train, X_test, y_train, y_test = train_test_split(\n",
        "    X_scaled, y_encoded, test_size=0.2, random_state=42, stratify=y_encoded\n",
        ")\n",
        "\n",
        "estimator = XGBClassifier(eval_metric='logloss', random_state=42)\n",
        "\n",
        "n_features_to_select = 50\n",
        "rfe = RFE(estimator=estimator, n_features_to_select=n_features_to_select, step=1)\n",
        "rfe.fit(X_train, y_train)\n",
        "\n",
        "selected_feature_mask = rfe.get_support()\n",
        "selected_features = X.columns[selected_feature_mask]\n",
        "print(\"Selected features:\", selected_features.tolist())\n",
        "print(\"Number of features selected:\", sum(selected_feature_mask))\n",
        "\n",
        "X_train_rfe = rfe.transform(X_train)\n",
        "X_test_rfe = rfe.transform(X_test)\n",
        "\n",
        "final_model = XGBClassifier(eval_metric='logloss', random_state=42)\n",
        "final_model.fit(X_train_rfe, y_train)\n",
        "\n",
        "y_pred = final_model.predict(X_test_rfe)\n",
        "accuracy = accuracy_score(y_test, y_pred)\n",
        "print(\"Final accuracy with RFE-selected features:\", accuracy)\n"
      ],
      "metadata": {
        "colab": {
          "base_uri": "https://localhost:8080/"
        },
        "id": "iBGm8ScWlbcD",
        "outputId": "195a8c20-1ebc-420a-cfd6-6aaa3f6ee198"
      },
      "execution_count": null,
      "outputs": [
        {
          "output_type": "stream",
          "name": "stdout",
          "text": [
            "Selected features: ['MATS3p', 'MATS3e', 'MATS3m', 'VR3_Dt', 'SpMax3_Bhv', 'SpMax3_Bhp', 'MAXDN', 'ATSC8i', 'SpAD_Dt', 'XLogP', 'R_TpiPCTPC', 'MATS1s', 'ETA_Eta_F_L', 'AATS7e', 'ETA_Epsilon_4', 'ETA_BetaP_s', 'ATS1m', 'SRW10', 'AATS6p', 'SpMin8_Bhi', 'ATSC3v', 'SpMax7_Bhe', 'SpMax7_Bhs', 'MIC2', 'SHaaCH', 'ATSC1v', 'MWC6', 'SHBa', 'AATSC8i', 'GATS5i', 'IC5', 'GATS4e', 'ATSC7p', 'ATSC7c', 'JGI7', 'JGI8', 'GATS7c', 'GATS7s', 'SpMin1_Bhi', 'SpMin1_Bhp', 'MLFER_S', 'ATS3v', 'ATS0m', 'minHother', 'VR1_DzZ', 'GATS8m', 'SpMax2_Bhs', 'SpMAD_Dt', 'VE2_Dzi', 'SpMax5_Bhm']\n",
            "Number of features selected: 50\n",
            "Final accuracy with RFE-selected features: 0.5625\n"
          ]
        }
      ]
    },
    {
      "cell_type": "markdown",
      "source": [
        "# In the approach i used grid search and i tried partition overall number of feature to select where we got 71 accuray"
      ],
      "metadata": {
        "id": "KvarlkXtuwam"
      }
    },
    {
      "cell_type": "code",
      "source": [
        "import pandas as pd\n",
        "import numpy as np\n",
        "from sklearn.tree import DecisionTreeClassifier\n",
        "from sklearn.model_selection import cross_val_score, StratifiedKFold, train_test_split, GridSearchCV\n",
        "from sklearn.feature_selection import RFE\n",
        "from sklearn.preprocessing import StandardScaler, LabelEncoder\n",
        "import warnings\n",
        "warnings.filterwarnings('ignore')\n",
        "\n",
        "df = pd.read_csv('/content/drive/MyDrive/Molecules_Toxicity_Classification.csv')\n",
        "df = df.loc[:, df.nunique() > 1]\n",
        "if 'Unnamed: 0' in df.columns:\n",
        "    df = df.drop('Unnamed: 0', axis=1)\n",
        "\n",
        "X = df.drop('Class', axis=1)\n",
        "y = df['Class']\n",
        "\n",
        "le = LabelEncoder()\n",
        "y_encoded = le.fit_transform(y)\n",
        "\n",
        "scaler = StandardScaler()\n",
        "X_scaled = scaler.fit_transform(X)\n",
        "\n",
        "cv = StratifiedKFold(n_splits=10, shuffle=True, random_state=42)\n",
        "results = {}\n",
        "\n",
        "for n_features in range(2, 21):\n",
        "    dtc = DecisionTreeClassifier(class_weight='balanced', random_state=42)\n",
        "    rfe = RFE(estimator=dtc, n_features_to_select=n_features, step=1)\n",
        "    X_rfe = rfe.fit_transform(X_scaled, y_encoded)\n",
        "    scores = cross_val_score(dtc, X_rfe, y_encoded, cv=cv, scoring='accuracy')\n",
        "    mean_score = np.mean(scores)\n",
        "    results[n_features] = mean_score\n",
        "    print(f\"Feature Cardinality: {n_features}, Mean CV Accuracy: {mean_score:.4f}\")\n",
        "\n",
        "best_n_features = max(results, key=results.get)\n",
        "print(f\"\\nBest feature set size (cardinality): {best_n_features} with Mean CV Accuracy: {results[best_n_features]:.4f}\")\n",
        "\n",
        "rfe_best = RFE(estimator=DecisionTreeClassifier(class_weight='balanced', random_state=42),\n",
        "               n_features_to_select=best_n_features, step=1)\n",
        "rfe_best.fit(X_scaled, y_encoded)\n",
        "selected_features = X.columns[rfe_best.get_support()].tolist()\n",
        "print(\"Selected features at best cardinality:\", selected_features)\n",
        "\n",
        "current_features = selected_features.copy()\n",
        "current_accuracy = results[best_n_features]\n",
        "print(\"\\nStarting iterative pruning. Baseline CV Accuracy:\", current_accuracy)\n",
        "improvement = True\n",
        "\n",
        "while improvement and len(current_features) > 1:\n",
        "    improvement = False\n",
        "    candidate_results = {}\n",
        "    for feature in current_features:\n",
        "        candidate_features = [f for f in current_features if f != feature]\n",
        "        X_candidate = X[candidate_features]\n",
        "        X_candidate_scaled = scaler.fit_transform(X_candidate)\n",
        "        dtc_candidate = DecisionTreeClassifier(class_weight='balanced', random_state=42)\n",
        "        scores_candidate = cross_val_score(dtc_candidate, X_candidate_scaled, y_encoded, cv=cv, scoring='accuracy')\n",
        "        candidate_accuracy = np.mean(scores_candidate)\n",
        "        candidate_results[feature] = candidate_accuracy\n",
        "    best_removal_feature = max(candidate_results, key=candidate_results.get)\n",
        "    best_candidate_accuracy = candidate_results[best_removal_feature]\n",
        "    if best_candidate_accuracy > current_accuracy:\n",
        "        print(f\"Removing '{best_removal_feature}' improved accuracy from {current_accuracy:.4f} to {best_candidate_accuracy:.4f}\")\n",
        "        current_features.remove(best_removal_feature)\n",
        "        current_accuracy = best_candidate_accuracy\n",
        "        improvement = True\n",
        "    else:\n",
        "        print(\"No removal improved the accuracy further.\")\n",
        "        break\n",
        "\n",
        "print(\"\\nFinal selected feature set after iterative pruning:\", current_features)\n",
        "print(\"Final CV Accuracy:\", current_accuracy)\n",
        "\n",
        "X_final = X[current_features]\n",
        "X_train_final, X_test_final, y_train_final, y_test_final = train_test_split(\n",
        "    X_final, y_encoded, test_size=0.2, random_state=42, stratify=y_encoded\n",
        ")\n",
        "X_train_final_scaled = scaler.fit_transform(X_train_final)\n",
        "X_test_final_scaled = scaler.transform(X_test_final)\n",
        "\n",
        "param_grid = {\n",
        "    'max_depth': list(range(1, 11)) + [None],\n",
        "    'min_samples_split': range(2, 11),\n",
        "    'min_samples_leaf': range(1, 11),\n",
        "    'max_features': list(range(1, len(current_features)+1))\n",
        "}\n",
        "\n",
        "grid_search = GridSearchCV(DecisionTreeClassifier(class_weight='balanced', random_state=42),\n",
        "                           param_grid, cv=cv, scoring='accuracy', n_jobs=-1)\n",
        "grid_search.fit(X_train_final_scaled, y_train_final)\n",
        "print(\"\\nBest hyperparameters from Grid Search:\")\n",
        "print(grid_search.best_params_)\n",
        "print(\"Best CV Accuracy from Grid Search:\", grid_search.best_score_)\n",
        "\n",
        "final_model = grid_search.best_estimator_\n",
        "final_model.fit(X_train_final_scaled, y_train_final)\n",
        "\n",
        "y_pred_final = final_model.predict(X_test_final_scaled)\n",
        "final_accuracy = np.mean(y_pred_final == y_test_final)\n",
        "print(\"\\nFinal hold-out test accuracy:\", final_accuracy)\n"
      ],
      "metadata": {
        "colab": {
          "base_uri": "https://localhost:8080/"
        },
        "id": "Tmb7ANg8pzKD",
        "outputId": "fdd892ff-a03f-492e-b99c-e1611665b4b2"
      },
      "execution_count": null,
      "outputs": [
        {
          "output_type": "stream",
          "name": "stdout",
          "text": [
            "Feature Cardinality: 2, Mean CV Accuracy: 0.6854\n",
            "Feature Cardinality: 3, Mean CV Accuracy: 0.6471\n",
            "Feature Cardinality: 4, Mean CV Accuracy: 0.6417\n",
            "Feature Cardinality: 5, Mean CV Accuracy: 0.6600\n",
            "Feature Cardinality: 6, Mean CV Accuracy: 0.6479\n",
            "Feature Cardinality: 7, Mean CV Accuracy: 0.7175\n",
            "Feature Cardinality: 8, Mean CV Accuracy: 0.7175\n",
            "Feature Cardinality: 9, Mean CV Accuracy: 0.7046\n",
            "Feature Cardinality: 10, Mean CV Accuracy: 0.7421\n",
            "Feature Cardinality: 11, Mean CV Accuracy: 0.7804\n",
            "Feature Cardinality: 12, Mean CV Accuracy: 0.8171\n",
            "Feature Cardinality: 13, Mean CV Accuracy: 0.7662\n",
            "Feature Cardinality: 14, Mean CV Accuracy: 0.7787\n",
            "Feature Cardinality: 15, Mean CV Accuracy: 0.7850\n",
            "Feature Cardinality: 16, Mean CV Accuracy: 0.8100\n",
            "Feature Cardinality: 17, Mean CV Accuracy: 0.7725\n",
            "Feature Cardinality: 18, Mean CV Accuracy: 0.7787\n",
            "Feature Cardinality: 19, Mean CV Accuracy: 0.7913\n",
            "Feature Cardinality: 20, Mean CV Accuracy: 0.7850\n",
            "\n",
            "Best feature set size (cardinality): 12 with Mean CV Accuracy: 0.8171\n",
            "Selected features at best cardinality: ['SpMax3_Bhv', 'ETA_EtaP_F_L', 'ATSC8s', 'AATS8m', 'SpDiam_Dt', 'SpMin3_Bhv', 'SRW8', 'ATSC5i', 'MATS8e', 'ATSC4e', 'AATSC7p', 'ETA_EtaP_B_RC']\n",
            "\n",
            "Starting iterative pruning. Baseline CV Accuracy: 0.8170833333333333\n",
            "No removal improved the accuracy further.\n",
            "\n",
            "Final selected feature set after iterative pruning: ['SpMax3_Bhv', 'ETA_EtaP_F_L', 'ATSC8s', 'AATS8m', 'SpDiam_Dt', 'SpMin3_Bhv', 'SRW8', 'ATSC5i', 'MATS8e', 'ATSC4e', 'AATSC7p', 'ETA_EtaP_B_RC']\n",
            "Final CV Accuracy: 0.8170833333333333\n",
            "\n",
            "Best hyperparameters from Grid Search:\n",
            "{'max_depth': 8, 'max_features': 5, 'min_samples_leaf': 1, 'min_samples_split': 5}\n",
            "Best CV Accuracy from Grid Search: 0.739102564102564\n",
            "\n",
            "Final hold-out test accuracy: 0.71875\n"
          ]
        }
      ]
    }
  ]
}